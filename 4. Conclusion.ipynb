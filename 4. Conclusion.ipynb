{
 "cells": [
  {
   "cell_type": "markdown",
   "id": "3c5220cd",
   "metadata": {},
   "source": [
    "<img src=\"Logo.png\" width=\"100\" align=\"left\"/> \n",
    "\n",
    "# <center> Unit 3 Project </center>\n",
    "#  <center> Fourth section : Conclusion </center>\n",
    "\n",
    "\n",
    "In this notebook you will be comparing the results of the two methods we used on the created testset. That is said: you will compare the results to the clustering with the results of the classification on the same test test and provide insights and explanation about the observed behaviour."
   ]
  },
  {
   "cell_type": "markdown",
   "id": "d7999942",
   "metadata": {},
   "source": [
    "For this final task you will need to : \n",
    "1. Load the testset data that you created all along this project \n",
    "2. For each cluster provide percentages about each actual/ predicted class contained with this cluster. Eg : cluster N°2 : is made of ( 50% class 2 and 50% class 3 ) from actual labels and ( 40 % predicted class 2 and 40% predicted class 3 + 20% predicted class 1) \n",
    "The above is just an example and is far away from the actual situation.\n",
    "\n",
    "3. Explain the behaviour and provide isights about it "
   ]
  },
  {
   "cell_type": "markdown",
   "id": "5ce7ef74",
   "metadata": {},
   "source": [
    "## 1.  Load the data: "
   ]
  },
  {
   "cell_type": "code",
   "execution_count": 2,
   "id": "db5d912f",
   "metadata": {},
   "outputs": [],
   "source": [
    "import pandas as pd "
   ]
  },
  {
   "cell_type": "code",
   "execution_count": 9,
   "id": "20df3761",
   "metadata": {},
   "outputs": [],
   "source": [
    "# To-Do : load the test summary data \n",
    "df = pd.read_csv('test_summary.csv')\n",
    "df= df.drop(columns=['Unnamed: 0'])"
   ]
  },
  {
   "cell_type": "code",
   "execution_count": 10,
   "id": "d4c27a63",
   "metadata": {},
   "outputs": [
    {
     "data": {
      "text/html": [
       "<div>\n",
       "<style scoped>\n",
       "    .dataframe tbody tr th:only-of-type {\n",
       "        vertical-align: middle;\n",
       "    }\n",
       "\n",
       "    .dataframe tbody tr th {\n",
       "        vertical-align: top;\n",
       "    }\n",
       "\n",
       "    .dataframe thead th {\n",
       "        text-align: right;\n",
       "    }\n",
       "</style>\n",
       "<table border=\"1\" class=\"dataframe\">\n",
       "  <thead>\n",
       "    <tr style=\"text-align: right;\">\n",
       "      <th></th>\n",
       "      <th>ID</th>\n",
       "      <th>Category</th>\n",
       "      <th>Age</th>\n",
       "      <th>Sex</th>\n",
       "      <th>ALB</th>\n",
       "      <th>ALP</th>\n",
       "      <th>ALT</th>\n",
       "      <th>AST</th>\n",
       "      <th>BIL</th>\n",
       "      <th>CHE</th>\n",
       "      <th>CHOL</th>\n",
       "      <th>CREA</th>\n",
       "      <th>GGT</th>\n",
       "      <th>PROT</th>\n",
       "      <th>cluster</th>\n",
       "      <th>Predicted_class</th>\n",
       "    </tr>\n",
       "  </thead>\n",
       "  <tbody>\n",
       "    <tr>\n",
       "      <th>0</th>\n",
       "      <td>249</td>\n",
       "      <td>0</td>\n",
       "      <td>55</td>\n",
       "      <td>1</td>\n",
       "      <td>28.1</td>\n",
       "      <td>65.5</td>\n",
       "      <td>16.6</td>\n",
       "      <td>17.5</td>\n",
       "      <td>2.8</td>\n",
       "      <td>5.58</td>\n",
       "      <td>4.39</td>\n",
       "      <td>65.0</td>\n",
       "      <td>26.2</td>\n",
       "      <td>62.4</td>\n",
       "      <td>3</td>\n",
       "      <td>0</td>\n",
       "    </tr>\n",
       "    <tr>\n",
       "      <th>1</th>\n",
       "      <td>366</td>\n",
       "      <td>0</td>\n",
       "      <td>39</td>\n",
       "      <td>0</td>\n",
       "      <td>31.4</td>\n",
       "      <td>106.0</td>\n",
       "      <td>16.6</td>\n",
       "      <td>17.0</td>\n",
       "      <td>2.4</td>\n",
       "      <td>5.95</td>\n",
       "      <td>5.30</td>\n",
       "      <td>68.0</td>\n",
       "      <td>22.9</td>\n",
       "      <td>72.3</td>\n",
       "      <td>3</td>\n",
       "      <td>0</td>\n",
       "    </tr>\n",
       "    <tr>\n",
       "      <th>2</th>\n",
       "      <td>433</td>\n",
       "      <td>0</td>\n",
       "      <td>48</td>\n",
       "      <td>0</td>\n",
       "      <td>43.7</td>\n",
       "      <td>50.1</td>\n",
       "      <td>17.3</td>\n",
       "      <td>26.3</td>\n",
       "      <td>8.1</td>\n",
       "      <td>8.15</td>\n",
       "      <td>5.38</td>\n",
       "      <td>64.0</td>\n",
       "      <td>13.4</td>\n",
       "      <td>73.1</td>\n",
       "      <td>3</td>\n",
       "      <td>0</td>\n",
       "    </tr>\n",
       "    <tr>\n",
       "      <th>3</th>\n",
       "      <td>611</td>\n",
       "      <td>4</td>\n",
       "      <td>62</td>\n",
       "      <td>0</td>\n",
       "      <td>32.0</td>\n",
       "      <td>416.6</td>\n",
       "      <td>5.9</td>\n",
       "      <td>110.3</td>\n",
       "      <td>50.0</td>\n",
       "      <td>5.57</td>\n",
       "      <td>6.30</td>\n",
       "      <td>55.7</td>\n",
       "      <td>650.9</td>\n",
       "      <td>68.5</td>\n",
       "      <td>2</td>\n",
       "      <td>4</td>\n",
       "    </tr>\n",
       "    <tr>\n",
       "      <th>4</th>\n",
       "      <td>133</td>\n",
       "      <td>0</td>\n",
       "      <td>44</td>\n",
       "      <td>1</td>\n",
       "      <td>35.5</td>\n",
       "      <td>81.7</td>\n",
       "      <td>27.5</td>\n",
       "      <td>29.5</td>\n",
       "      <td>6.4</td>\n",
       "      <td>8.81</td>\n",
       "      <td>6.65</td>\n",
       "      <td>83.0</td>\n",
       "      <td>24.1</td>\n",
       "      <td>68.0</td>\n",
       "      <td>3</td>\n",
       "      <td>0</td>\n",
       "    </tr>\n",
       "  </tbody>\n",
       "</table>\n",
       "</div>"
      ],
      "text/plain": [
       "    ID  Category  Age  Sex   ALB    ALP   ALT    AST   BIL   CHE  CHOL  CREA  \\\n",
       "0  249         0   55    1  28.1   65.5  16.6   17.5   2.8  5.58  4.39  65.0   \n",
       "1  366         0   39    0  31.4  106.0  16.6   17.0   2.4  5.95  5.30  68.0   \n",
       "2  433         0   48    0  43.7   50.1  17.3   26.3   8.1  8.15  5.38  64.0   \n",
       "3  611         4   62    0  32.0  416.6   5.9  110.3  50.0  5.57  6.30  55.7   \n",
       "4  133         0   44    1  35.5   81.7  27.5   29.5   6.4  8.81  6.65  83.0   \n",
       "\n",
       "     GGT  PROT  cluster  Predicted_class  \n",
       "0   26.2  62.4        3                0  \n",
       "1   22.9  72.3        3                0  \n",
       "2   13.4  73.1        3                0  \n",
       "3  650.9  68.5        2                4  \n",
       "4   24.1  68.0        3                0  "
      ]
     },
     "execution_count": 10,
     "metadata": {},
     "output_type": "execute_result"
    }
   ],
   "source": [
    "df.head()"
   ]
  },
  {
   "cell_type": "markdown",
   "id": "5a876830",
   "metadata": {},
   "source": [
    "## 2. Analysis: "
   ]
  },
  {
   "cell_type": "code",
   "execution_count": 13,
   "id": "99732f39",
   "metadata": {},
   "outputs": [
    {
     "data": {
      "text/plain": [
       "{'Cluster 3': {'true_class0_percentage': np.float64(0.94),\n",
       "  'true_class1_percentage': np.float64(0.0),\n",
       "  'true_class2_percentage': np.float64(0.04),\n",
       "  'true_class3_percentage': np.float64(0.01),\n",
       "  'true_class4_percentage': np.float64(0.01),\n",
       "  'predicted_class0_percentage': np.float64(0.98),\n",
       "  'predicted_class2_percentage': np.float64(0.01),\n",
       "  'predicted_class3_percentage': np.float64(0.0),\n",
       "  'predicted_class4_percentage': np.float64(0.01)},\n",
       " 'Cluster 2': {'true_class0_percentage': np.float64(0.0),\n",
       "  'true_class1_percentage': np.float64(0.25),\n",
       "  'true_class2_percentage': np.float64(0.25),\n",
       "  'true_class3_percentage': np.float64(0.0),\n",
       "  'true_class4_percentage': np.float64(0.5),\n",
       "  'predicted_class0_percentage': np.float64(0.25),\n",
       "  'predicted_class2_percentage': np.float64(0.0),\n",
       "  'predicted_class3_percentage': np.float64(0.25),\n",
       "  'predicted_class4_percentage': np.float64(0.5)},\n",
       " 'Cluster 4': {'true_class0_percentage': np.float64(0.53),\n",
       "  'true_class1_percentage': np.float64(0.06),\n",
       "  'true_class2_percentage': np.float64(0.15),\n",
       "  'true_class3_percentage': np.float64(0.15),\n",
       "  'true_class4_percentage': np.float64(0.12),\n",
       "  'predicted_class0_percentage': np.float64(0.82),\n",
       "  'predicted_class2_percentage': np.float64(0.03),\n",
       "  'predicted_class3_percentage': np.float64(0.09),\n",
       "  'predicted_class4_percentage': np.float64(0.06)},\n",
       " 'Cluster 1': {'true_class0_percentage': np.float64(0.0),\n",
       "  'true_class1_percentage': np.float64(0.0),\n",
       "  'true_class2_percentage': np.float64(0.0),\n",
       "  'true_class3_percentage': np.float64(0.0),\n",
       "  'true_class4_percentage': np.float64(1.0),\n",
       "  'predicted_class0_percentage': np.float64(0.0),\n",
       "  'predicted_class2_percentage': np.float64(0.0),\n",
       "  'predicted_class3_percentage': np.float64(0.0),\n",
       "  'predicted_class4_percentage': np.float64(1.0)}}"
      ]
     },
     "execution_count": 13,
     "metadata": {},
     "output_type": "execute_result"
    }
   ],
   "source": [
    "# To-Do create a summary about each cluster : \n",
    "# percentages of each target (actual Category) within each cluster \n",
    "# + Percentages of each predicted class within the cluster \n",
    "# results should be something like : \n",
    "# For clusterk : {'true_class0_percetage': 0.0,\n",
    "#                 'true_class1_percetage': 0.0,\n",
    "#                  'true_class2_percetage': 0.0,\n",
    "#                   'true_class3_percetage': 0.0,\n",
    "#                   'true_class4_percetage': 0.0,\n",
    "#                   'predicted_class0_percetage': 0.0,\n",
    "#                   'predicted_class1_percetage': 0.0,\n",
    "#                   'predicted_class2_percetage': 0.0,\n",
    "#                   'predicted_class3_percetage': 0.0,\n",
    "#                    'predicted_class4_percetage': 0.0}\n",
    "\n",
    "\n",
    "\n",
    "# Generate the summary for each cluster\n",
    "cluster_summary = {}\n",
    "clusters = df['cluster'].unique()\n",
    "true_classes = sorted(df['Category'].unique())\n",
    "pred_classes = sorted(df['Predicted_class'].unique())\n",
    "\n",
    "for cluster_id in clusters:\n",
    "    cluster_data = df[df['cluster'] == cluster_id]\n",
    "    cluster_size = len(cluster_data)\n",
    "\n",
    "    summary = {}\n",
    "    for cls in true_classes:\n",
    "        pct = (cluster_data['Category'] == cls).sum() / cluster_size\n",
    "        summary[f'true_class{cls}_percentage'] = round(pct, 2)\n",
    "\n",
    "    for cls in pred_classes:\n",
    "        pct = (cluster_data['Predicted_class'] == cls).sum() / cluster_size\n",
    "        summary[f'predicted_class{cls}_percentage'] = round(pct, 2)\n",
    "\n",
    "    cluster_summary[f'Cluster {cluster_id}'] = summary\n",
    "\n",
    "cluster_summary"
   ]
  },
  {
   "cell_type": "markdown",
   "id": "65b6139d",
   "metadata": {},
   "source": [
    "## 3. Explanations and isights :"
   ]
  },
  {
   "cell_type": "code",
   "execution_count": null,
   "id": "cecd4211",
   "metadata": {},
   "outputs": [
    {
     "data": {
      "text/plain": [
       "'# 🧠 Cluster-wise Analysis and Interpretation\\n\\n### 🔹 Cluster 3\\n**True Class Distribution:**\\n- Class 0: 94%\\n- Class 1: 0%\\n- Class 2: 4%\\n- Class 3: 1%\\n- Class 4: 1%\\n\\n**Predicted Class Distribution:**\\n- Class 0: 98%\\n- Class 2: 1%\\n- Class 3: 0%\\n- Class 4: 1%\\n\\n**📝 Comment:** 🟢 This cluster is very pure and clearly separated, showing excellent model performance.\\n\\n---\\n\\n### 🔹 Cluster 2\\n**True Class Distribution:**\\n- Class 0: 0%\\n- Class 1: 25%\\n- Class 2: 25%\\n- Class 3: 0%\\n- Class 4: 50%\\n\\n**Predicted Class Distribution:**\\n- Class 0: 25%\\n- Class 2: 0%\\n- Class 3: 25%\\n- Class 4: 50%\\n\\n**📝 Comment:** 🔶 This cluster shows class overlap in the actual distribution. The model also struggles with prediction diversity, indicating ambiguity.\\n\\n---\\n\\n### 🔹 Cluster 4\\n**True Class Distribution:**\\n- Class 0: 53%\\n- Class 1: 6%\\n- Class 2: 15%\\n- Class 3: 15%\\n- Class 4: 12%\\n\\n**Predicted Class Distribution:**\\n- Class 0: 82%\\n- Class 2: 3%\\n- Class 3: 9%\\n- Class 4: 6%\\n\\n**📝 Comment:** 🔷 Mixed behavior: acceptable classification but with room for tuning or feature separation.\\n\\n---\\n\\n### 🔹 Cluster 1\\n**True Class Distribution:**\\n- Class 0: 0%\\n- Class 1: 0%\\n- Class 2: 0%\\n- Class 3: 0%\\n- Class 4: 100%\\n\\n**Predicted Class Distribution:**\\n- Class 0: 0%\\n- Class 2: 0%\\n- Class 3: 0%\\n- Class 4: 100%\\n\\n**📝 Comment:** 🟢 This cluster is very pure and clearly separated, showing excellent model performance.\\n\\n---\\n'"
      ]
     },
     "execution_count": 14,
     "metadata": {},
     "output_type": "execute_result"
    }
   ],
   "source": [
    "# in this section you should display analysis about each cluster and comment those one by one \n"
   ]
  },
  {
   "cell_type": "markdown",
   "id": "c248cbad",
   "metadata": {},
   "source": [
    "## 4. Conclusion:\n",
    "\n",
    "Explain your findings and provide reasons for the behaviour."
   ]
  },
  {
   "cell_type": "code",
   "execution_count": null,
   "id": "d19df8e9",
   "metadata": {},
   "outputs": [],
   "source": []
  }
 ],
 "metadata": {
  "kernelspec": {
   "display_name": "base",
   "language": "python",
   "name": "python3"
  },
  "language_info": {
   "codemirror_mode": {
    "name": "ipython",
    "version": 3
   },
   "file_extension": ".py",
   "mimetype": "text/x-python",
   "name": "python",
   "nbconvert_exporter": "python",
   "pygments_lexer": "ipython3",
   "version": "3.12.9"
  }
 },
 "nbformat": 4,
 "nbformat_minor": 5
}
